{
 "cells": [
  {
   "cell_type": "code",
   "execution_count": 1,
   "id": "8040c322",
   "metadata": {},
   "outputs": [],
   "source": [
    "import numpy as np\n",
    "import pandas as pd\n",
    "import matplotlib.pyplot as plt\n",
    "import seaborn as sns"
   ]
  },
  {
   "cell_type": "code",
   "execution_count": 2,
   "id": "6ecb2d2d",
   "metadata": {},
   "outputs": [],
   "source": [
    "df=pd.read_csv(r\"C:\\machine learning use case\\smart energy\\smart energy\\dataset\\building_consumption.csv\")"
   ]
  },
  {
   "cell_type": "code",
   "execution_count": 3,
   "id": "24f1b2eb",
   "metadata": {},
   "outputs": [
    {
     "data": {
      "text/html": [
       "<div>\n",
       "<style scoped>\n",
       "    .dataframe tbody tr th:only-of-type {\n",
       "        vertical-align: middle;\n",
       "    }\n",
       "\n",
       "    .dataframe tbody tr th {\n",
       "        vertical-align: top;\n",
       "    }\n",
       "\n",
       "    .dataframe thead th {\n",
       "        text-align: right;\n",
       "    }\n",
       "</style>\n",
       "<table border=\"1\" class=\"dataframe\">\n",
       "  <thead>\n",
       "    <tr style=\"text-align: right;\">\n",
       "      <th></th>\n",
       "      <th>campus_id</th>\n",
       "      <th>meter_id</th>\n",
       "      <th>timestamp</th>\n",
       "      <th>consumption</th>\n",
       "    </tr>\n",
       "  </thead>\n",
       "  <tbody>\n",
       "    <tr>\n",
       "      <th>0</th>\n",
       "      <td>1</td>\n",
       "      <td>1</td>\n",
       "      <td>2019-03-29 01:15:00</td>\n",
       "      <td>0.011</td>\n",
       "    </tr>\n",
       "    <tr>\n",
       "      <th>1</th>\n",
       "      <td>1</td>\n",
       "      <td>1</td>\n",
       "      <td>2019-03-29 01:30:00</td>\n",
       "      <td>0.021</td>\n",
       "    </tr>\n",
       "    <tr>\n",
       "      <th>2</th>\n",
       "      <td>1</td>\n",
       "      <td>1</td>\n",
       "      <td>2019-03-29 01:45:00</td>\n",
       "      <td>0.038</td>\n",
       "    </tr>\n",
       "    <tr>\n",
       "      <th>3</th>\n",
       "      <td>1</td>\n",
       "      <td>1</td>\n",
       "      <td>2019-03-29 02:00:00</td>\n",
       "      <td>0.871</td>\n",
       "    </tr>\n",
       "    <tr>\n",
       "      <th>4</th>\n",
       "      <td>1</td>\n",
       "      <td>1</td>\n",
       "      <td>2019-03-29 02:15:00</td>\n",
       "      <td>0.873</td>\n",
       "    </tr>\n",
       "  </tbody>\n",
       "</table>\n",
       "</div>"
      ],
      "text/plain": [
       "   campus_id  meter_id            timestamp  consumption\n",
       "0          1         1  2019-03-29 01:15:00        0.011\n",
       "1          1         1  2019-03-29 01:30:00        0.021\n",
       "2          1         1  2019-03-29 01:45:00        0.038\n",
       "3          1         1  2019-03-29 02:00:00        0.871\n",
       "4          1         1  2019-03-29 02:15:00        0.873"
      ]
     },
     "execution_count": 3,
     "metadata": {},
     "output_type": "execute_result"
    }
   ],
   "source": [
    "df.head()"
   ]
  },
  {
   "cell_type": "code",
   "execution_count": 4,
   "id": "38187349",
   "metadata": {},
   "outputs": [],
   "source": [
    "df=df[df[\"campus_id\"]==2]"
   ]
  },
  {
   "cell_type": "code",
   "execution_count": 5,
   "id": "46a7b96e",
   "metadata": {},
   "outputs": [
    {
     "data": {
      "text/html": [
       "<div>\n",
       "<style scoped>\n",
       "    .dataframe tbody tr th:only-of-type {\n",
       "        vertical-align: middle;\n",
       "    }\n",
       "\n",
       "    .dataframe tbody tr th {\n",
       "        vertical-align: top;\n",
       "    }\n",
       "\n",
       "    .dataframe thead th {\n",
       "        text-align: right;\n",
       "    }\n",
       "</style>\n",
       "<table border=\"1\" class=\"dataframe\">\n",
       "  <thead>\n",
       "    <tr style=\"text-align: right;\">\n",
       "      <th></th>\n",
       "      <th>campus_id</th>\n",
       "      <th>meter_id</th>\n",
       "      <th>timestamp</th>\n",
       "      <th>consumption</th>\n",
       "    </tr>\n",
       "  </thead>\n",
       "  <tbody>\n",
       "    <tr>\n",
       "      <th>671275</th>\n",
       "      <td>2</td>\n",
       "      <td>8</td>\n",
       "      <td>2019-01-01 00:15:00</td>\n",
       "      <td>2.28125</td>\n",
       "    </tr>\n",
       "    <tr>\n",
       "      <th>671276</th>\n",
       "      <td>2</td>\n",
       "      <td>8</td>\n",
       "      <td>2019-01-01 00:30:00</td>\n",
       "      <td>2.20313</td>\n",
       "    </tr>\n",
       "    <tr>\n",
       "      <th>671277</th>\n",
       "      <td>2</td>\n",
       "      <td>8</td>\n",
       "      <td>2019-01-01 00:45:00</td>\n",
       "      <td>2.79688</td>\n",
       "    </tr>\n",
       "    <tr>\n",
       "      <th>671278</th>\n",
       "      <td>2</td>\n",
       "      <td>8</td>\n",
       "      <td>2019-01-01 01:00:00</td>\n",
       "      <td>2.28125</td>\n",
       "    </tr>\n",
       "    <tr>\n",
       "      <th>671279</th>\n",
       "      <td>2</td>\n",
       "      <td>8</td>\n",
       "      <td>2019-01-01 01:15:00</td>\n",
       "      <td>2.23438</td>\n",
       "    </tr>\n",
       "  </tbody>\n",
       "</table>\n",
       "</div>"
      ],
      "text/plain": [
       "        campus_id  meter_id            timestamp  consumption\n",
       "671275          2         8  2019-01-01 00:15:00      2.28125\n",
       "671276          2         8  2019-01-01 00:30:00      2.20313\n",
       "671277          2         8  2019-01-01 00:45:00      2.79688\n",
       "671278          2         8  2019-01-01 01:00:00      2.28125\n",
       "671279          2         8  2019-01-01 01:15:00      2.23438"
      ]
     },
     "execution_count": 5,
     "metadata": {},
     "output_type": "execute_result"
    }
   ],
   "source": [
    "df.head()"
   ]
  },
  {
   "cell_type": "code",
   "execution_count": 6,
   "id": "ec22156f",
   "metadata": {},
   "outputs": [
    {
     "data": {
      "text/plain": [
       "array([ 8,  9, 10, 11, 12, 13, 14, 47, 48], dtype=int64)"
      ]
     },
     "execution_count": 6,
     "metadata": {},
     "output_type": "execute_result"
    }
   ],
   "source": [
    "df[\"meter_id\"].unique()"
   ]
  },
  {
   "cell_type": "code",
   "execution_count": 7,
   "id": "02cf11a3",
   "metadata": {},
   "outputs": [],
   "source": [
    "df[\"timestamp\"]=pd.to_datetime(df[\"timestamp\"])"
   ]
  },
  {
   "cell_type": "code",
   "execution_count": 8,
   "id": "10d79664-22af-40c1-8b47-2084e910075a",
   "metadata": {},
   "outputs": [
    {
     "data": {
      "text/html": [
       "<div>\n",
       "<style scoped>\n",
       "    .dataframe tbody tr th:only-of-type {\n",
       "        vertical-align: middle;\n",
       "    }\n",
       "\n",
       "    .dataframe tbody tr th {\n",
       "        vertical-align: top;\n",
       "    }\n",
       "\n",
       "    .dataframe thead th {\n",
       "        text-align: right;\n",
       "    }\n",
       "</style>\n",
       "<table border=\"1\" class=\"dataframe\">\n",
       "  <thead>\n",
       "    <tr style=\"text-align: right;\">\n",
       "      <th></th>\n",
       "      <th>campus_id</th>\n",
       "      <th>meter_id</th>\n",
       "      <th>timestamp</th>\n",
       "      <th>consumption</th>\n",
       "    </tr>\n",
       "  </thead>\n",
       "  <tbody>\n",
       "    <tr>\n",
       "      <th>671275</th>\n",
       "      <td>2</td>\n",
       "      <td>8</td>\n",
       "      <td>2019-01-01 00:15:00</td>\n",
       "      <td>2.28125</td>\n",
       "    </tr>\n",
       "    <tr>\n",
       "      <th>671276</th>\n",
       "      <td>2</td>\n",
       "      <td>8</td>\n",
       "      <td>2019-01-01 00:30:00</td>\n",
       "      <td>2.20313</td>\n",
       "    </tr>\n",
       "    <tr>\n",
       "      <th>671277</th>\n",
       "      <td>2</td>\n",
       "      <td>8</td>\n",
       "      <td>2019-01-01 00:45:00</td>\n",
       "      <td>2.79688</td>\n",
       "    </tr>\n",
       "    <tr>\n",
       "      <th>671278</th>\n",
       "      <td>2</td>\n",
       "      <td>8</td>\n",
       "      <td>2019-01-01 01:00:00</td>\n",
       "      <td>2.28125</td>\n",
       "    </tr>\n",
       "    <tr>\n",
       "      <th>671279</th>\n",
       "      <td>2</td>\n",
       "      <td>8</td>\n",
       "      <td>2019-01-01 01:15:00</td>\n",
       "      <td>2.23438</td>\n",
       "    </tr>\n",
       "  </tbody>\n",
       "</table>\n",
       "</div>"
      ],
      "text/plain": [
       "        campus_id  meter_id           timestamp  consumption\n",
       "671275          2         8 2019-01-01 00:15:00      2.28125\n",
       "671276          2         8 2019-01-01 00:30:00      2.20313\n",
       "671277          2         8 2019-01-01 00:45:00      2.79688\n",
       "671278          2         8 2019-01-01 01:00:00      2.28125\n",
       "671279          2         8 2019-01-01 01:15:00      2.23438"
      ]
     },
     "execution_count": 8,
     "metadata": {},
     "output_type": "execute_result"
    }
   ],
   "source": [
    "df.head()"
   ]
  },
  {
   "cell_type": "code",
   "execution_count": 9,
   "id": "bbf43ece",
   "metadata": {},
   "outputs": [],
   "source": [
    "start_date = pd.to_datetime('2021-01-01')  \n",
    "end_date = pd.to_datetime('2021-01-08')  \n",
    "\n",
    "df= df[(df['timestamp'] > start_date) & (df['timestamp'] < end_date)]"
   ]
  },
  {
   "cell_type": "code",
   "execution_count": 10,
   "id": "9cdd239d",
   "metadata": {},
   "outputs": [
    {
     "data": {
      "text/html": [
       "<div>\n",
       "<style scoped>\n",
       "    .dataframe tbody tr th:only-of-type {\n",
       "        vertical-align: middle;\n",
       "    }\n",
       "\n",
       "    .dataframe tbody tr th {\n",
       "        vertical-align: top;\n",
       "    }\n",
       "\n",
       "    .dataframe thead th {\n",
       "        text-align: right;\n",
       "    }\n",
       "</style>\n",
       "<table border=\"1\" class=\"dataframe\">\n",
       "  <thead>\n",
       "    <tr style=\"text-align: right;\">\n",
       "      <th></th>\n",
       "      <th>campus_id</th>\n",
       "      <th>meter_id</th>\n",
       "      <th>timestamp</th>\n",
       "      <th>consumption</th>\n",
       "    </tr>\n",
       "  </thead>\n",
       "  <tbody>\n",
       "    <tr>\n",
       "      <th>725969</th>\n",
       "      <td>2</td>\n",
       "      <td>8</td>\n",
       "      <td>2021-01-01 00:15:00</td>\n",
       "      <td>1.6250</td>\n",
       "    </tr>\n",
       "    <tr>\n",
       "      <th>725970</th>\n",
       "      <td>2</td>\n",
       "      <td>8</td>\n",
       "      <td>2021-01-01 00:30:00</td>\n",
       "      <td>1.7500</td>\n",
       "    </tr>\n",
       "    <tr>\n",
       "      <th>725971</th>\n",
       "      <td>2</td>\n",
       "      <td>8</td>\n",
       "      <td>2021-01-01 00:45:00</td>\n",
       "      <td>1.6250</td>\n",
       "    </tr>\n",
       "    <tr>\n",
       "      <th>725972</th>\n",
       "      <td>2</td>\n",
       "      <td>8</td>\n",
       "      <td>2021-01-01 01:00:00</td>\n",
       "      <td>1.6875</td>\n",
       "    </tr>\n",
       "    <tr>\n",
       "      <th>725973</th>\n",
       "      <td>2</td>\n",
       "      <td>8</td>\n",
       "      <td>2021-01-01 01:15:00</td>\n",
       "      <td>1.6250</td>\n",
       "    </tr>\n",
       "    <tr>\n",
       "      <th>...</th>\n",
       "      <td>...</td>\n",
       "      <td>...</td>\n",
       "      <td>...</td>\n",
       "      <td>...</td>\n",
       "    </tr>\n",
       "    <tr>\n",
       "      <th>5934707</th>\n",
       "      <td>2</td>\n",
       "      <td>48</td>\n",
       "      <td>2021-01-07 22:45:00</td>\n",
       "      <td>0.7410</td>\n",
       "    </tr>\n",
       "    <tr>\n",
       "      <th>5934708</th>\n",
       "      <td>2</td>\n",
       "      <td>48</td>\n",
       "      <td>2021-01-07 23:00:00</td>\n",
       "      <td>0.7030</td>\n",
       "    </tr>\n",
       "    <tr>\n",
       "      <th>5934709</th>\n",
       "      <td>2</td>\n",
       "      <td>48</td>\n",
       "      <td>2021-01-07 23:15:00</td>\n",
       "      <td>0.6630</td>\n",
       "    </tr>\n",
       "    <tr>\n",
       "      <th>5934710</th>\n",
       "      <td>2</td>\n",
       "      <td>48</td>\n",
       "      <td>2021-01-07 23:30:00</td>\n",
       "      <td>0.4620</td>\n",
       "    </tr>\n",
       "    <tr>\n",
       "      <th>5934711</th>\n",
       "      <td>2</td>\n",
       "      <td>48</td>\n",
       "      <td>2021-01-07 23:45:00</td>\n",
       "      <td>0.5810</td>\n",
       "    </tr>\n",
       "  </tbody>\n",
       "</table>\n",
       "<p>5768 rows × 4 columns</p>\n",
       "</div>"
      ],
      "text/plain": [
       "         campus_id  meter_id           timestamp  consumption\n",
       "725969           2         8 2021-01-01 00:15:00       1.6250\n",
       "725970           2         8 2021-01-01 00:30:00       1.7500\n",
       "725971           2         8 2021-01-01 00:45:00       1.6250\n",
       "725972           2         8 2021-01-01 01:00:00       1.6875\n",
       "725973           2         8 2021-01-01 01:15:00       1.6250\n",
       "...            ...       ...                 ...          ...\n",
       "5934707          2        48 2021-01-07 22:45:00       0.7410\n",
       "5934708          2        48 2021-01-07 23:00:00       0.7030\n",
       "5934709          2        48 2021-01-07 23:15:00       0.6630\n",
       "5934710          2        48 2021-01-07 23:30:00       0.4620\n",
       "5934711          2        48 2021-01-07 23:45:00       0.5810\n",
       "\n",
       "[5768 rows x 4 columns]"
      ]
     },
     "execution_count": 10,
     "metadata": {},
     "output_type": "execute_result"
    }
   ],
   "source": [
    "df"
   ]
  },
  {
   "cell_type": "code",
   "execution_count": 11,
   "id": "c0788586",
   "metadata": {},
   "outputs": [],
   "source": [
    "df=df.drop([\"campus_id\"],axis=1)"
   ]
  },
  {
   "cell_type": "code",
   "execution_count": 12,
   "id": "ecf2c731",
   "metadata": {},
   "outputs": [],
   "source": [
    "df=df.set_index(\"timestamp\")"
   ]
  },
  {
   "cell_type": "markdown",
   "id": "21c0d371",
   "metadata": {},
   "source": [
    "# 8"
   ]
  },
  {
   "cell_type": "code",
   "execution_count": 13,
   "id": "81a37814",
   "metadata": {},
   "outputs": [],
   "source": [
    "df1=df[df[\"meter_id\"]==8]"
   ]
  },
  {
   "cell_type": "code",
   "execution_count": 14,
   "id": "2f691261",
   "metadata": {},
   "outputs": [
    {
     "data": {
      "text/html": [
       "<div>\n",
       "<style scoped>\n",
       "    .dataframe tbody tr th:only-of-type {\n",
       "        vertical-align: middle;\n",
       "    }\n",
       "\n",
       "    .dataframe tbody tr th {\n",
       "        vertical-align: top;\n",
       "    }\n",
       "\n",
       "    .dataframe thead th {\n",
       "        text-align: right;\n",
       "    }\n",
       "</style>\n",
       "<table border=\"1\" class=\"dataframe\">\n",
       "  <thead>\n",
       "    <tr style=\"text-align: right;\">\n",
       "      <th></th>\n",
       "      <th>meter_id</th>\n",
       "      <th>consumption</th>\n",
       "    </tr>\n",
       "    <tr>\n",
       "      <th>timestamp</th>\n",
       "      <th></th>\n",
       "      <th></th>\n",
       "    </tr>\n",
       "  </thead>\n",
       "  <tbody>\n",
       "    <tr>\n",
       "      <th>2021-01-01 00:15:00</th>\n",
       "      <td>8</td>\n",
       "      <td>1.6250</td>\n",
       "    </tr>\n",
       "    <tr>\n",
       "      <th>2021-01-01 00:30:00</th>\n",
       "      <td>8</td>\n",
       "      <td>1.7500</td>\n",
       "    </tr>\n",
       "    <tr>\n",
       "      <th>2021-01-01 00:45:00</th>\n",
       "      <td>8</td>\n",
       "      <td>1.6250</td>\n",
       "    </tr>\n",
       "    <tr>\n",
       "      <th>2021-01-01 01:00:00</th>\n",
       "      <td>8</td>\n",
       "      <td>1.6875</td>\n",
       "    </tr>\n",
       "    <tr>\n",
       "      <th>2021-01-01 01:15:00</th>\n",
       "      <td>8</td>\n",
       "      <td>1.6250</td>\n",
       "    </tr>\n",
       "  </tbody>\n",
       "</table>\n",
       "</div>"
      ],
      "text/plain": [
       "                     meter_id  consumption\n",
       "timestamp                                 \n",
       "2021-01-01 00:15:00         8       1.6250\n",
       "2021-01-01 00:30:00         8       1.7500\n",
       "2021-01-01 00:45:00         8       1.6250\n",
       "2021-01-01 01:00:00         8       1.6875\n",
       "2021-01-01 01:15:00         8       1.6250"
      ]
     },
     "execution_count": 14,
     "metadata": {},
     "output_type": "execute_result"
    }
   ],
   "source": [
    "df1.head()"
   ]
  },
  {
   "cell_type": "code",
   "execution_count": 15,
   "id": "8aff3ac4",
   "metadata": {},
   "outputs": [],
   "source": [
    "df1=df1.drop([\"meter_id\"],axis=1)"
   ]
  },
  {
   "cell_type": "code",
   "execution_count": 16,
   "id": "a3858e42",
   "metadata": {},
   "outputs": [
    {
     "data": {
      "text/html": [
       "<div>\n",
       "<style scoped>\n",
       "    .dataframe tbody tr th:only-of-type {\n",
       "        vertical-align: middle;\n",
       "    }\n",
       "\n",
       "    .dataframe tbody tr th {\n",
       "        vertical-align: top;\n",
       "    }\n",
       "\n",
       "    .dataframe thead th {\n",
       "        text-align: right;\n",
       "    }\n",
       "</style>\n",
       "<table border=\"1\" class=\"dataframe\">\n",
       "  <thead>\n",
       "    <tr style=\"text-align: right;\">\n",
       "      <th></th>\n",
       "      <th>consumption</th>\n",
       "    </tr>\n",
       "    <tr>\n",
       "      <th>timestamp</th>\n",
       "      <th></th>\n",
       "    </tr>\n",
       "  </thead>\n",
       "  <tbody>\n",
       "    <tr>\n",
       "      <th>2021-01-01 00:00:00</th>\n",
       "      <td>5.0000</td>\n",
       "    </tr>\n",
       "    <tr>\n",
       "      <th>2021-01-01 01:00:00</th>\n",
       "      <td>6.6875</td>\n",
       "    </tr>\n",
       "    <tr>\n",
       "      <th>2021-01-01 02:00:00</th>\n",
       "      <td>6.5000</td>\n",
       "    </tr>\n",
       "    <tr>\n",
       "      <th>2021-01-01 03:00:00</th>\n",
       "      <td>6.5625</td>\n",
       "    </tr>\n",
       "    <tr>\n",
       "      <th>2021-01-01 04:00:00</th>\n",
       "      <td>7.3125</td>\n",
       "    </tr>\n",
       "    <tr>\n",
       "      <th>...</th>\n",
       "      <td>...</td>\n",
       "    </tr>\n",
       "    <tr>\n",
       "      <th>2021-01-07 19:00:00</th>\n",
       "      <td>21.9225</td>\n",
       "    </tr>\n",
       "    <tr>\n",
       "      <th>2021-01-07 20:00:00</th>\n",
       "      <td>12.7570</td>\n",
       "    </tr>\n",
       "    <tr>\n",
       "      <th>2021-01-07 21:00:00</th>\n",
       "      <td>5.1250</td>\n",
       "    </tr>\n",
       "    <tr>\n",
       "      <th>2021-01-07 22:00:00</th>\n",
       "      <td>6.3125</td>\n",
       "    </tr>\n",
       "    <tr>\n",
       "      <th>2021-01-07 23:00:00</th>\n",
       "      <td>6.4375</td>\n",
       "    </tr>\n",
       "  </tbody>\n",
       "</table>\n",
       "<p>168 rows × 1 columns</p>\n",
       "</div>"
      ],
      "text/plain": [
       "                     consumption\n",
       "timestamp                       \n",
       "2021-01-01 00:00:00       5.0000\n",
       "2021-01-01 01:00:00       6.6875\n",
       "2021-01-01 02:00:00       6.5000\n",
       "2021-01-01 03:00:00       6.5625\n",
       "2021-01-01 04:00:00       7.3125\n",
       "...                          ...\n",
       "2021-01-07 19:00:00      21.9225\n",
       "2021-01-07 20:00:00      12.7570\n",
       "2021-01-07 21:00:00       5.1250\n",
       "2021-01-07 22:00:00       6.3125\n",
       "2021-01-07 23:00:00       6.4375\n",
       "\n",
       "[168 rows x 1 columns]"
      ]
     },
     "execution_count": 16,
     "metadata": {},
     "output_type": "execute_result"
    }
   ],
   "source": [
    "df1=df1.resample(\"H\").sum()\n",
    "df1"
   ]
  },
  {
   "cell_type": "code",
   "execution_count": 17,
   "id": "9fa2637b",
   "metadata": {},
   "outputs": [],
   "source": [
    "df1[\"building\"]=1"
   ]
  },
  {
   "cell_type": "code",
   "execution_count": 18,
   "id": "b6ab2ad3",
   "metadata": {},
   "outputs": [
    {
     "data": {
      "text/html": [
       "<div>\n",
       "<style scoped>\n",
       "    .dataframe tbody tr th:only-of-type {\n",
       "        vertical-align: middle;\n",
       "    }\n",
       "\n",
       "    .dataframe tbody tr th {\n",
       "        vertical-align: top;\n",
       "    }\n",
       "\n",
       "    .dataframe thead th {\n",
       "        text-align: right;\n",
       "    }\n",
       "</style>\n",
       "<table border=\"1\" class=\"dataframe\">\n",
       "  <thead>\n",
       "    <tr style=\"text-align: right;\">\n",
       "      <th></th>\n",
       "      <th>consumption</th>\n",
       "      <th>building</th>\n",
       "    </tr>\n",
       "    <tr>\n",
       "      <th>timestamp</th>\n",
       "      <th></th>\n",
       "      <th></th>\n",
       "    </tr>\n",
       "  </thead>\n",
       "  <tbody>\n",
       "    <tr>\n",
       "      <th>2021-01-01 00:00:00</th>\n",
       "      <td>5.0000</td>\n",
       "      <td>1</td>\n",
       "    </tr>\n",
       "    <tr>\n",
       "      <th>2021-01-01 01:00:00</th>\n",
       "      <td>6.6875</td>\n",
       "      <td>1</td>\n",
       "    </tr>\n",
       "    <tr>\n",
       "      <th>2021-01-01 02:00:00</th>\n",
       "      <td>6.5000</td>\n",
       "      <td>1</td>\n",
       "    </tr>\n",
       "    <tr>\n",
       "      <th>2021-01-01 03:00:00</th>\n",
       "      <td>6.5625</td>\n",
       "      <td>1</td>\n",
       "    </tr>\n",
       "    <tr>\n",
       "      <th>2021-01-01 04:00:00</th>\n",
       "      <td>7.3125</td>\n",
       "      <td>1</td>\n",
       "    </tr>\n",
       "    <tr>\n",
       "      <th>...</th>\n",
       "      <td>...</td>\n",
       "      <td>...</td>\n",
       "    </tr>\n",
       "    <tr>\n",
       "      <th>2021-01-07 19:00:00</th>\n",
       "      <td>21.9225</td>\n",
       "      <td>1</td>\n",
       "    </tr>\n",
       "    <tr>\n",
       "      <th>2021-01-07 20:00:00</th>\n",
       "      <td>12.7570</td>\n",
       "      <td>1</td>\n",
       "    </tr>\n",
       "    <tr>\n",
       "      <th>2021-01-07 21:00:00</th>\n",
       "      <td>5.1250</td>\n",
       "      <td>1</td>\n",
       "    </tr>\n",
       "    <tr>\n",
       "      <th>2021-01-07 22:00:00</th>\n",
       "      <td>6.3125</td>\n",
       "      <td>1</td>\n",
       "    </tr>\n",
       "    <tr>\n",
       "      <th>2021-01-07 23:00:00</th>\n",
       "      <td>6.4375</td>\n",
       "      <td>1</td>\n",
       "    </tr>\n",
       "  </tbody>\n",
       "</table>\n",
       "<p>168 rows × 2 columns</p>\n",
       "</div>"
      ],
      "text/plain": [
       "                     consumption  building\n",
       "timestamp                                 \n",
       "2021-01-01 00:00:00       5.0000         1\n",
       "2021-01-01 01:00:00       6.6875         1\n",
       "2021-01-01 02:00:00       6.5000         1\n",
       "2021-01-01 03:00:00       6.5625         1\n",
       "2021-01-01 04:00:00       7.3125         1\n",
       "...                          ...       ...\n",
       "2021-01-07 19:00:00      21.9225         1\n",
       "2021-01-07 20:00:00      12.7570         1\n",
       "2021-01-07 21:00:00       5.1250         1\n",
       "2021-01-07 22:00:00       6.3125         1\n",
       "2021-01-07 23:00:00       6.4375         1\n",
       "\n",
       "[168 rows x 2 columns]"
      ]
     },
     "execution_count": 18,
     "metadata": {},
     "output_type": "execute_result"
    }
   ],
   "source": [
    "df1"
   ]
  },
  {
   "cell_type": "markdown",
   "id": "fa6eabf9",
   "metadata": {},
   "source": [
    "# 9"
   ]
  },
  {
   "cell_type": "code",
   "execution_count": 19,
   "id": "70c64118",
   "metadata": {},
   "outputs": [],
   "source": [
    "df2=df[df[\"meter_id\"]==9]\n",
    "df2=df2.drop([\"meter_id\"],axis=1)\n",
    "df2=df2.resample(\"H\").sum()\n",
    "df2[\"building\"]=2"
   ]
  },
  {
   "cell_type": "code",
   "execution_count": 20,
   "id": "db1cb298",
   "metadata": {},
   "outputs": [
    {
     "data": {
      "text/html": [
       "<div>\n",
       "<style scoped>\n",
       "    .dataframe tbody tr th:only-of-type {\n",
       "        vertical-align: middle;\n",
       "    }\n",
       "\n",
       "    .dataframe tbody tr th {\n",
       "        vertical-align: top;\n",
       "    }\n",
       "\n",
       "    .dataframe thead th {\n",
       "        text-align: right;\n",
       "    }\n",
       "</style>\n",
       "<table border=\"1\" class=\"dataframe\">\n",
       "  <thead>\n",
       "    <tr style=\"text-align: right;\">\n",
       "      <th></th>\n",
       "      <th>consumption</th>\n",
       "      <th>building</th>\n",
       "    </tr>\n",
       "    <tr>\n",
       "      <th>timestamp</th>\n",
       "      <th></th>\n",
       "      <th></th>\n",
       "    </tr>\n",
       "  </thead>\n",
       "  <tbody>\n",
       "    <tr>\n",
       "      <th>2021-01-01 00:00:00</th>\n",
       "      <td>6.123</td>\n",
       "      <td>2</td>\n",
       "    </tr>\n",
       "    <tr>\n",
       "      <th>2021-01-01 01:00:00</th>\n",
       "      <td>8.235</td>\n",
       "      <td>2</td>\n",
       "    </tr>\n",
       "    <tr>\n",
       "      <th>2021-01-01 02:00:00</th>\n",
       "      <td>8.422</td>\n",
       "      <td>2</td>\n",
       "    </tr>\n",
       "    <tr>\n",
       "      <th>2021-01-01 03:00:00</th>\n",
       "      <td>8.107</td>\n",
       "      <td>2</td>\n",
       "    </tr>\n",
       "    <tr>\n",
       "      <th>2021-01-01 04:00:00</th>\n",
       "      <td>8.122</td>\n",
       "      <td>2</td>\n",
       "    </tr>\n",
       "    <tr>\n",
       "      <th>...</th>\n",
       "      <td>...</td>\n",
       "      <td>...</td>\n",
       "    </tr>\n",
       "    <tr>\n",
       "      <th>2021-01-07 19:00:00</th>\n",
       "      <td>15.941</td>\n",
       "      <td>2</td>\n",
       "    </tr>\n",
       "    <tr>\n",
       "      <th>2021-01-07 20:00:00</th>\n",
       "      <td>15.724</td>\n",
       "      <td>2</td>\n",
       "    </tr>\n",
       "    <tr>\n",
       "      <th>2021-01-07 21:00:00</th>\n",
       "      <td>10.609</td>\n",
       "      <td>2</td>\n",
       "    </tr>\n",
       "    <tr>\n",
       "      <th>2021-01-07 22:00:00</th>\n",
       "      <td>8.679</td>\n",
       "      <td>2</td>\n",
       "    </tr>\n",
       "    <tr>\n",
       "      <th>2021-01-07 23:00:00</th>\n",
       "      <td>8.487</td>\n",
       "      <td>2</td>\n",
       "    </tr>\n",
       "  </tbody>\n",
       "</table>\n",
       "<p>168 rows × 2 columns</p>\n",
       "</div>"
      ],
      "text/plain": [
       "                     consumption  building\n",
       "timestamp                                 \n",
       "2021-01-01 00:00:00        6.123         2\n",
       "2021-01-01 01:00:00        8.235         2\n",
       "2021-01-01 02:00:00        8.422         2\n",
       "2021-01-01 03:00:00        8.107         2\n",
       "2021-01-01 04:00:00        8.122         2\n",
       "...                          ...       ...\n",
       "2021-01-07 19:00:00       15.941         2\n",
       "2021-01-07 20:00:00       15.724         2\n",
       "2021-01-07 21:00:00       10.609         2\n",
       "2021-01-07 22:00:00        8.679         2\n",
       "2021-01-07 23:00:00        8.487         2\n",
       "\n",
       "[168 rows x 2 columns]"
      ]
     },
     "execution_count": 20,
     "metadata": {},
     "output_type": "execute_result"
    }
   ],
   "source": [
    "df2"
   ]
  },
  {
   "cell_type": "markdown",
   "id": "0972b5ab",
   "metadata": {},
   "source": [
    "# 10"
   ]
  },
  {
   "cell_type": "code",
   "execution_count": 21,
   "id": "cbfa1b3d",
   "metadata": {},
   "outputs": [],
   "source": [
    "df3=df[df[\"meter_id\"]==10]\n",
    "df3=df3.drop([\"meter_id\"],axis=1)\n",
    "df3=df3.resample(\"H\").sum()\n",
    "df3[\"building\"]=3"
   ]
  },
  {
   "cell_type": "code",
   "execution_count": 22,
   "id": "94169645",
   "metadata": {},
   "outputs": [
    {
     "data": {
      "text/html": [
       "<div>\n",
       "<style scoped>\n",
       "    .dataframe tbody tr th:only-of-type {\n",
       "        vertical-align: middle;\n",
       "    }\n",
       "\n",
       "    .dataframe tbody tr th {\n",
       "        vertical-align: top;\n",
       "    }\n",
       "\n",
       "    .dataframe thead th {\n",
       "        text-align: right;\n",
       "    }\n",
       "</style>\n",
       "<table border=\"1\" class=\"dataframe\">\n",
       "  <thead>\n",
       "    <tr style=\"text-align: right;\">\n",
       "      <th></th>\n",
       "      <th>consumption</th>\n",
       "      <th>building</th>\n",
       "    </tr>\n",
       "    <tr>\n",
       "      <th>timestamp</th>\n",
       "      <th></th>\n",
       "      <th></th>\n",
       "    </tr>\n",
       "  </thead>\n",
       "  <tbody>\n",
       "    <tr>\n",
       "      <th>2021-01-01 00:00:00</th>\n",
       "      <td>1.051</td>\n",
       "      <td>3</td>\n",
       "    </tr>\n",
       "    <tr>\n",
       "      <th>2021-01-01 01:00:00</th>\n",
       "      <td>1.120</td>\n",
       "      <td>3</td>\n",
       "    </tr>\n",
       "    <tr>\n",
       "      <th>2021-01-01 02:00:00</th>\n",
       "      <td>1.278</td>\n",
       "      <td>3</td>\n",
       "    </tr>\n",
       "    <tr>\n",
       "      <th>2021-01-01 03:00:00</th>\n",
       "      <td>0.652</td>\n",
       "      <td>3</td>\n",
       "    </tr>\n",
       "    <tr>\n",
       "      <th>2021-01-01 04:00:00</th>\n",
       "      <td>1.091</td>\n",
       "      <td>3</td>\n",
       "    </tr>\n",
       "    <tr>\n",
       "      <th>...</th>\n",
       "      <td>...</td>\n",
       "      <td>...</td>\n",
       "    </tr>\n",
       "    <tr>\n",
       "      <th>2021-01-07 19:00:00</th>\n",
       "      <td>1.729</td>\n",
       "      <td>3</td>\n",
       "    </tr>\n",
       "    <tr>\n",
       "      <th>2021-01-07 20:00:00</th>\n",
       "      <td>0.000</td>\n",
       "      <td>3</td>\n",
       "    </tr>\n",
       "    <tr>\n",
       "      <th>2021-01-07 21:00:00</th>\n",
       "      <td>1.206</td>\n",
       "      <td>3</td>\n",
       "    </tr>\n",
       "    <tr>\n",
       "      <th>2021-01-07 22:00:00</th>\n",
       "      <td>1.379</td>\n",
       "      <td>3</td>\n",
       "    </tr>\n",
       "    <tr>\n",
       "      <th>2021-01-07 23:00:00</th>\n",
       "      <td>0.346</td>\n",
       "      <td>3</td>\n",
       "    </tr>\n",
       "  </tbody>\n",
       "</table>\n",
       "<p>168 rows × 2 columns</p>\n",
       "</div>"
      ],
      "text/plain": [
       "                     consumption  building\n",
       "timestamp                                 \n",
       "2021-01-01 00:00:00        1.051         3\n",
       "2021-01-01 01:00:00        1.120         3\n",
       "2021-01-01 02:00:00        1.278         3\n",
       "2021-01-01 03:00:00        0.652         3\n",
       "2021-01-01 04:00:00        1.091         3\n",
       "...                          ...       ...\n",
       "2021-01-07 19:00:00        1.729         3\n",
       "2021-01-07 20:00:00        0.000         3\n",
       "2021-01-07 21:00:00        1.206         3\n",
       "2021-01-07 22:00:00        1.379         3\n",
       "2021-01-07 23:00:00        0.346         3\n",
       "\n",
       "[168 rows x 2 columns]"
      ]
     },
     "execution_count": 22,
     "metadata": {},
     "output_type": "execute_result"
    }
   ],
   "source": [
    "df3"
   ]
  },
  {
   "cell_type": "markdown",
   "id": "501f887c",
   "metadata": {},
   "source": [
    "# 11"
   ]
  },
  {
   "cell_type": "code",
   "execution_count": 23,
   "id": "3fe855d8",
   "metadata": {},
   "outputs": [],
   "source": [
    "df4=df[df[\"meter_id\"]==11]\n",
    "df4=df4.drop([\"meter_id\"],axis=1)\n",
    "df4=df4.resample(\"H\").sum()\n",
    "df4[\"building\"]=4"
   ]
  },
  {
   "cell_type": "code",
   "execution_count": 24,
   "id": "9b3f3279",
   "metadata": {},
   "outputs": [
    {
     "data": {
      "text/html": [
       "<div>\n",
       "<style scoped>\n",
       "    .dataframe tbody tr th:only-of-type {\n",
       "        vertical-align: middle;\n",
       "    }\n",
       "\n",
       "    .dataframe tbody tr th {\n",
       "        vertical-align: top;\n",
       "    }\n",
       "\n",
       "    .dataframe thead th {\n",
       "        text-align: right;\n",
       "    }\n",
       "</style>\n",
       "<table border=\"1\" class=\"dataframe\">\n",
       "  <thead>\n",
       "    <tr style=\"text-align: right;\">\n",
       "      <th></th>\n",
       "      <th>consumption</th>\n",
       "      <th>building</th>\n",
       "    </tr>\n",
       "    <tr>\n",
       "      <th>timestamp</th>\n",
       "      <th></th>\n",
       "      <th></th>\n",
       "    </tr>\n",
       "  </thead>\n",
       "  <tbody>\n",
       "    <tr>\n",
       "      <th>2021-01-01 00:00:00</th>\n",
       "      <td>12.221</td>\n",
       "      <td>4</td>\n",
       "    </tr>\n",
       "    <tr>\n",
       "      <th>2021-01-01 01:00:00</th>\n",
       "      <td>14.847</td>\n",
       "      <td>4</td>\n",
       "    </tr>\n",
       "    <tr>\n",
       "      <th>2021-01-01 02:00:00</th>\n",
       "      <td>14.580</td>\n",
       "      <td>4</td>\n",
       "    </tr>\n",
       "    <tr>\n",
       "      <th>2021-01-01 03:00:00</th>\n",
       "      <td>16.710</td>\n",
       "      <td>4</td>\n",
       "    </tr>\n",
       "    <tr>\n",
       "      <th>2021-01-01 04:00:00</th>\n",
       "      <td>13.683</td>\n",
       "      <td>4</td>\n",
       "    </tr>\n",
       "    <tr>\n",
       "      <th>...</th>\n",
       "      <td>...</td>\n",
       "      <td>...</td>\n",
       "    </tr>\n",
       "    <tr>\n",
       "      <th>2021-01-07 19:00:00</th>\n",
       "      <td>16.336</td>\n",
       "      <td>4</td>\n",
       "    </tr>\n",
       "    <tr>\n",
       "      <th>2021-01-07 20:00:00</th>\n",
       "      <td>15.309</td>\n",
       "      <td>4</td>\n",
       "    </tr>\n",
       "    <tr>\n",
       "      <th>2021-01-07 21:00:00</th>\n",
       "      <td>18.455</td>\n",
       "      <td>4</td>\n",
       "    </tr>\n",
       "    <tr>\n",
       "      <th>2021-01-07 22:00:00</th>\n",
       "      <td>13.049</td>\n",
       "      <td>4</td>\n",
       "    </tr>\n",
       "    <tr>\n",
       "      <th>2021-01-07 23:00:00</th>\n",
       "      <td>17.948</td>\n",
       "      <td>4</td>\n",
       "    </tr>\n",
       "  </tbody>\n",
       "</table>\n",
       "<p>168 rows × 2 columns</p>\n",
       "</div>"
      ],
      "text/plain": [
       "                     consumption  building\n",
       "timestamp                                 \n",
       "2021-01-01 00:00:00       12.221         4\n",
       "2021-01-01 01:00:00       14.847         4\n",
       "2021-01-01 02:00:00       14.580         4\n",
       "2021-01-01 03:00:00       16.710         4\n",
       "2021-01-01 04:00:00       13.683         4\n",
       "...                          ...       ...\n",
       "2021-01-07 19:00:00       16.336         4\n",
       "2021-01-07 20:00:00       15.309         4\n",
       "2021-01-07 21:00:00       18.455         4\n",
       "2021-01-07 22:00:00       13.049         4\n",
       "2021-01-07 23:00:00       17.948         4\n",
       "\n",
       "[168 rows x 2 columns]"
      ]
     },
     "execution_count": 24,
     "metadata": {},
     "output_type": "execute_result"
    }
   ],
   "source": [
    "df4"
   ]
  },
  {
   "cell_type": "markdown",
   "id": "84a3e1a2",
   "metadata": {},
   "source": [
    "# 12"
   ]
  },
  {
   "cell_type": "code",
   "execution_count": 25,
   "id": "b41a1bf0",
   "metadata": {},
   "outputs": [],
   "source": [
    "df5=df[df[\"meter_id\"]==12]\n",
    "df5=df5.drop([\"meter_id\"],axis=1)\n",
    "df5=df5.resample(\"H\").sum()\n",
    "df5[\"building\"]=5"
   ]
  },
  {
   "cell_type": "code",
   "execution_count": 26,
   "id": "df0d4811",
   "metadata": {},
   "outputs": [
    {
     "data": {
      "text/html": [
       "<div>\n",
       "<style scoped>\n",
       "    .dataframe tbody tr th:only-of-type {\n",
       "        vertical-align: middle;\n",
       "    }\n",
       "\n",
       "    .dataframe tbody tr th {\n",
       "        vertical-align: top;\n",
       "    }\n",
       "\n",
       "    .dataframe thead th {\n",
       "        text-align: right;\n",
       "    }\n",
       "</style>\n",
       "<table border=\"1\" class=\"dataframe\">\n",
       "  <thead>\n",
       "    <tr style=\"text-align: right;\">\n",
       "      <th></th>\n",
       "      <th>consumption</th>\n",
       "      <th>building</th>\n",
       "    </tr>\n",
       "    <tr>\n",
       "      <th>timestamp</th>\n",
       "      <th></th>\n",
       "      <th></th>\n",
       "    </tr>\n",
       "  </thead>\n",
       "  <tbody>\n",
       "    <tr>\n",
       "      <th>2021-01-01 00:00:00</th>\n",
       "      <td>1.331</td>\n",
       "      <td>5</td>\n",
       "    </tr>\n",
       "    <tr>\n",
       "      <th>2021-01-01 01:00:00</th>\n",
       "      <td>1.785</td>\n",
       "      <td>5</td>\n",
       "    </tr>\n",
       "    <tr>\n",
       "      <th>2021-01-01 02:00:00</th>\n",
       "      <td>1.763</td>\n",
       "      <td>5</td>\n",
       "    </tr>\n",
       "    <tr>\n",
       "      <th>2021-01-01 03:00:00</th>\n",
       "      <td>1.839</td>\n",
       "      <td>5</td>\n",
       "    </tr>\n",
       "    <tr>\n",
       "      <th>2021-01-01 04:00:00</th>\n",
       "      <td>2.186</td>\n",
       "      <td>5</td>\n",
       "    </tr>\n",
       "    <tr>\n",
       "      <th>...</th>\n",
       "      <td>...</td>\n",
       "      <td>...</td>\n",
       "    </tr>\n",
       "    <tr>\n",
       "      <th>2021-01-07 19:00:00</th>\n",
       "      <td>1.656</td>\n",
       "      <td>5</td>\n",
       "    </tr>\n",
       "    <tr>\n",
       "      <th>2021-01-07 20:00:00</th>\n",
       "      <td>2.062</td>\n",
       "      <td>5</td>\n",
       "    </tr>\n",
       "    <tr>\n",
       "      <th>2021-01-07 21:00:00</th>\n",
       "      <td>1.781</td>\n",
       "      <td>5</td>\n",
       "    </tr>\n",
       "    <tr>\n",
       "      <th>2021-01-07 22:00:00</th>\n",
       "      <td>1.951</td>\n",
       "      <td>5</td>\n",
       "    </tr>\n",
       "    <tr>\n",
       "      <th>2021-01-07 23:00:00</th>\n",
       "      <td>1.899</td>\n",
       "      <td>5</td>\n",
       "    </tr>\n",
       "  </tbody>\n",
       "</table>\n",
       "<p>168 rows × 2 columns</p>\n",
       "</div>"
      ],
      "text/plain": [
       "                     consumption  building\n",
       "timestamp                                 \n",
       "2021-01-01 00:00:00        1.331         5\n",
       "2021-01-01 01:00:00        1.785         5\n",
       "2021-01-01 02:00:00        1.763         5\n",
       "2021-01-01 03:00:00        1.839         5\n",
       "2021-01-01 04:00:00        2.186         5\n",
       "...                          ...       ...\n",
       "2021-01-07 19:00:00        1.656         5\n",
       "2021-01-07 20:00:00        2.062         5\n",
       "2021-01-07 21:00:00        1.781         5\n",
       "2021-01-07 22:00:00        1.951         5\n",
       "2021-01-07 23:00:00        1.899         5\n",
       "\n",
       "[168 rows x 2 columns]"
      ]
     },
     "execution_count": 26,
     "metadata": {},
     "output_type": "execute_result"
    }
   ],
   "source": [
    "df5"
   ]
  },
  {
   "cell_type": "markdown",
   "id": "d110d041",
   "metadata": {},
   "source": [
    "# 13"
   ]
  },
  {
   "cell_type": "code",
   "execution_count": 27,
   "id": "c117d7a8",
   "metadata": {},
   "outputs": [],
   "source": [
    "df6=df[df[\"meter_id\"]==13]\n",
    "df6=df6.drop([\"meter_id\"],axis=1)\n",
    "df6=df6.resample(\"H\").sum()\n",
    "df6[\"building\"]=6"
   ]
  },
  {
   "cell_type": "code",
   "execution_count": 28,
   "id": "e64fcc20",
   "metadata": {},
   "outputs": [
    {
     "data": {
      "text/html": [
       "<div>\n",
       "<style scoped>\n",
       "    .dataframe tbody tr th:only-of-type {\n",
       "        vertical-align: middle;\n",
       "    }\n",
       "\n",
       "    .dataframe tbody tr th {\n",
       "        vertical-align: top;\n",
       "    }\n",
       "\n",
       "    .dataframe thead th {\n",
       "        text-align: right;\n",
       "    }\n",
       "</style>\n",
       "<table border=\"1\" class=\"dataframe\">\n",
       "  <thead>\n",
       "    <tr style=\"text-align: right;\">\n",
       "      <th></th>\n",
       "      <th>consumption</th>\n",
       "      <th>building</th>\n",
       "    </tr>\n",
       "    <tr>\n",
       "      <th>timestamp</th>\n",
       "      <th></th>\n",
       "      <th></th>\n",
       "    </tr>\n",
       "  </thead>\n",
       "  <tbody>\n",
       "    <tr>\n",
       "      <th>2021-01-01 00:00:00</th>\n",
       "      <td>4.01200</td>\n",
       "      <td>6</td>\n",
       "    </tr>\n",
       "    <tr>\n",
       "      <th>2021-01-01 01:00:00</th>\n",
       "      <td>5.54725</td>\n",
       "      <td>6</td>\n",
       "    </tr>\n",
       "    <tr>\n",
       "      <th>2021-01-01 02:00:00</th>\n",
       "      <td>5.89100</td>\n",
       "      <td>6</td>\n",
       "    </tr>\n",
       "    <tr>\n",
       "      <th>2021-01-01 03:00:00</th>\n",
       "      <td>5.23275</td>\n",
       "      <td>6</td>\n",
       "    </tr>\n",
       "    <tr>\n",
       "      <th>2021-01-01 04:00:00</th>\n",
       "      <td>4.04225</td>\n",
       "      <td>6</td>\n",
       "    </tr>\n",
       "    <tr>\n",
       "      <th>...</th>\n",
       "      <td>...</td>\n",
       "      <td>...</td>\n",
       "    </tr>\n",
       "    <tr>\n",
       "      <th>2021-01-07 19:00:00</th>\n",
       "      <td>19.12150</td>\n",
       "      <td>6</td>\n",
       "    </tr>\n",
       "    <tr>\n",
       "      <th>2021-01-07 20:00:00</th>\n",
       "      <td>6.08975</td>\n",
       "      <td>6</td>\n",
       "    </tr>\n",
       "    <tr>\n",
       "      <th>2021-01-07 21:00:00</th>\n",
       "      <td>5.57750</td>\n",
       "      <td>6</td>\n",
       "    </tr>\n",
       "    <tr>\n",
       "      <th>2021-01-07 22:00:00</th>\n",
       "      <td>3.88800</td>\n",
       "      <td>6</td>\n",
       "    </tr>\n",
       "    <tr>\n",
       "      <th>2021-01-07 23:00:00</th>\n",
       "      <td>5.10975</td>\n",
       "      <td>6</td>\n",
       "    </tr>\n",
       "  </tbody>\n",
       "</table>\n",
       "<p>168 rows × 2 columns</p>\n",
       "</div>"
      ],
      "text/plain": [
       "                     consumption  building\n",
       "timestamp                                 \n",
       "2021-01-01 00:00:00      4.01200         6\n",
       "2021-01-01 01:00:00      5.54725         6\n",
       "2021-01-01 02:00:00      5.89100         6\n",
       "2021-01-01 03:00:00      5.23275         6\n",
       "2021-01-01 04:00:00      4.04225         6\n",
       "...                          ...       ...\n",
       "2021-01-07 19:00:00     19.12150         6\n",
       "2021-01-07 20:00:00      6.08975         6\n",
       "2021-01-07 21:00:00      5.57750         6\n",
       "2021-01-07 22:00:00      3.88800         6\n",
       "2021-01-07 23:00:00      5.10975         6\n",
       "\n",
       "[168 rows x 2 columns]"
      ]
     },
     "execution_count": 28,
     "metadata": {},
     "output_type": "execute_result"
    }
   ],
   "source": [
    "df6"
   ]
  },
  {
   "cell_type": "markdown",
   "id": "9702a2ab",
   "metadata": {},
   "source": [
    "# 14"
   ]
  },
  {
   "cell_type": "code",
   "execution_count": 29,
   "id": "c65c4976",
   "metadata": {},
   "outputs": [],
   "source": [
    "df7=df[df[\"meter_id\"]==14]\n",
    "df7=df7.drop([\"meter_id\"],axis=1)\n",
    "df7=df7.resample(\"H\").sum()\n",
    "df7[\"building\"]=7"
   ]
  },
  {
   "cell_type": "code",
   "execution_count": 30,
   "id": "9c5ae7d5",
   "metadata": {},
   "outputs": [
    {
     "data": {
      "text/html": [
       "<div>\n",
       "<style scoped>\n",
       "    .dataframe tbody tr th:only-of-type {\n",
       "        vertical-align: middle;\n",
       "    }\n",
       "\n",
       "    .dataframe tbody tr th {\n",
       "        vertical-align: top;\n",
       "    }\n",
       "\n",
       "    .dataframe thead th {\n",
       "        text-align: right;\n",
       "    }\n",
       "</style>\n",
       "<table border=\"1\" class=\"dataframe\">\n",
       "  <thead>\n",
       "    <tr style=\"text-align: right;\">\n",
       "      <th></th>\n",
       "      <th>consumption</th>\n",
       "      <th>building</th>\n",
       "    </tr>\n",
       "    <tr>\n",
       "      <th>timestamp</th>\n",
       "      <th></th>\n",
       "      <th></th>\n",
       "    </tr>\n",
       "  </thead>\n",
       "  <tbody>\n",
       "    <tr>\n",
       "      <th>2021-01-01 00:00:00</th>\n",
       "      <td>34.28125</td>\n",
       "      <td>7</td>\n",
       "    </tr>\n",
       "    <tr>\n",
       "      <th>2021-01-01 01:00:00</th>\n",
       "      <td>47.96876</td>\n",
       "      <td>7</td>\n",
       "    </tr>\n",
       "    <tr>\n",
       "      <th>2021-01-01 02:00:00</th>\n",
       "      <td>44.79689</td>\n",
       "      <td>7</td>\n",
       "    </tr>\n",
       "    <tr>\n",
       "      <th>2021-01-01 03:00:00</th>\n",
       "      <td>43.04688</td>\n",
       "      <td>7</td>\n",
       "    </tr>\n",
       "    <tr>\n",
       "      <th>2021-01-01 04:00:00</th>\n",
       "      <td>54.95313</td>\n",
       "      <td>7</td>\n",
       "    </tr>\n",
       "    <tr>\n",
       "      <th>...</th>\n",
       "      <td>...</td>\n",
       "      <td>...</td>\n",
       "    </tr>\n",
       "    <tr>\n",
       "      <th>2021-01-07 19:00:00</th>\n",
       "      <td>49.43751</td>\n",
       "      <td>7</td>\n",
       "    </tr>\n",
       "    <tr>\n",
       "      <th>2021-01-07 20:00:00</th>\n",
       "      <td>44.95313</td>\n",
       "      <td>7</td>\n",
       "    </tr>\n",
       "    <tr>\n",
       "      <th>2021-01-07 21:00:00</th>\n",
       "      <td>45.64063</td>\n",
       "      <td>7</td>\n",
       "    </tr>\n",
       "    <tr>\n",
       "      <th>2021-01-07 22:00:00</th>\n",
       "      <td>43.98439</td>\n",
       "      <td>7</td>\n",
       "    </tr>\n",
       "    <tr>\n",
       "      <th>2021-01-07 23:00:00</th>\n",
       "      <td>42.54688</td>\n",
       "      <td>7</td>\n",
       "    </tr>\n",
       "  </tbody>\n",
       "</table>\n",
       "<p>168 rows × 2 columns</p>\n",
       "</div>"
      ],
      "text/plain": [
       "                     consumption  building\n",
       "timestamp                                 \n",
       "2021-01-01 00:00:00     34.28125         7\n",
       "2021-01-01 01:00:00     47.96876         7\n",
       "2021-01-01 02:00:00     44.79689         7\n",
       "2021-01-01 03:00:00     43.04688         7\n",
       "2021-01-01 04:00:00     54.95313         7\n",
       "...                          ...       ...\n",
       "2021-01-07 19:00:00     49.43751         7\n",
       "2021-01-07 20:00:00     44.95313         7\n",
       "2021-01-07 21:00:00     45.64063         7\n",
       "2021-01-07 22:00:00     43.98439         7\n",
       "2021-01-07 23:00:00     42.54688         7\n",
       "\n",
       "[168 rows x 2 columns]"
      ]
     },
     "execution_count": 30,
     "metadata": {},
     "output_type": "execute_result"
    }
   ],
   "source": [
    "df7"
   ]
  },
  {
   "cell_type": "markdown",
   "id": "44bc623a",
   "metadata": {},
   "source": [
    "# 47"
   ]
  },
  {
   "cell_type": "code",
   "execution_count": 31,
   "id": "f1021392",
   "metadata": {},
   "outputs": [],
   "source": [
    "df8=df[df[\"meter_id\"]==47]\n",
    "df8=df8.drop([\"meter_id\"],axis=1)\n",
    "df8=df8.resample(\"H\").sum()\n",
    "df8[\"building\"]=8"
   ]
  },
  {
   "cell_type": "code",
   "execution_count": 32,
   "id": "f28fbd9f",
   "metadata": {},
   "outputs": [
    {
     "data": {
      "text/html": [
       "<div>\n",
       "<style scoped>\n",
       "    .dataframe tbody tr th:only-of-type {\n",
       "        vertical-align: middle;\n",
       "    }\n",
       "\n",
       "    .dataframe tbody tr th {\n",
       "        vertical-align: top;\n",
       "    }\n",
       "\n",
       "    .dataframe thead th {\n",
       "        text-align: right;\n",
       "    }\n",
       "</style>\n",
       "<table border=\"1\" class=\"dataframe\">\n",
       "  <thead>\n",
       "    <tr style=\"text-align: right;\">\n",
       "      <th></th>\n",
       "      <th>consumption</th>\n",
       "      <th>building</th>\n",
       "    </tr>\n",
       "    <tr>\n",
       "      <th>timestamp</th>\n",
       "      <th></th>\n",
       "      <th></th>\n",
       "    </tr>\n",
       "  </thead>\n",
       "  <tbody>\n",
       "    <tr>\n",
       "      <th>2021-01-01 00:00:00</th>\n",
       "      <td>2.867</td>\n",
       "      <td>8</td>\n",
       "    </tr>\n",
       "    <tr>\n",
       "      <th>2021-01-01 01:00:00</th>\n",
       "      <td>4.021</td>\n",
       "      <td>8</td>\n",
       "    </tr>\n",
       "    <tr>\n",
       "      <th>2021-01-01 02:00:00</th>\n",
       "      <td>3.798</td>\n",
       "      <td>8</td>\n",
       "    </tr>\n",
       "    <tr>\n",
       "      <th>2021-01-01 03:00:00</th>\n",
       "      <td>3.315</td>\n",
       "      <td>8</td>\n",
       "    </tr>\n",
       "    <tr>\n",
       "      <th>2021-01-01 04:00:00</th>\n",
       "      <td>2.929</td>\n",
       "      <td>8</td>\n",
       "    </tr>\n",
       "    <tr>\n",
       "      <th>...</th>\n",
       "      <td>...</td>\n",
       "      <td>...</td>\n",
       "    </tr>\n",
       "    <tr>\n",
       "      <th>2021-01-07 19:00:00</th>\n",
       "      <td>6.960</td>\n",
       "      <td>8</td>\n",
       "    </tr>\n",
       "    <tr>\n",
       "      <th>2021-01-07 20:00:00</th>\n",
       "      <td>4.887</td>\n",
       "      <td>8</td>\n",
       "    </tr>\n",
       "    <tr>\n",
       "      <th>2021-01-07 21:00:00</th>\n",
       "      <td>5.186</td>\n",
       "      <td>8</td>\n",
       "    </tr>\n",
       "    <tr>\n",
       "      <th>2021-01-07 22:00:00</th>\n",
       "      <td>5.594</td>\n",
       "      <td>8</td>\n",
       "    </tr>\n",
       "    <tr>\n",
       "      <th>2021-01-07 23:00:00</th>\n",
       "      <td>7.291</td>\n",
       "      <td>8</td>\n",
       "    </tr>\n",
       "  </tbody>\n",
       "</table>\n",
       "<p>168 rows × 2 columns</p>\n",
       "</div>"
      ],
      "text/plain": [
       "                     consumption  building\n",
       "timestamp                                 \n",
       "2021-01-01 00:00:00        2.867         8\n",
       "2021-01-01 01:00:00        4.021         8\n",
       "2021-01-01 02:00:00        3.798         8\n",
       "2021-01-01 03:00:00        3.315         8\n",
       "2021-01-01 04:00:00        2.929         8\n",
       "...                          ...       ...\n",
       "2021-01-07 19:00:00        6.960         8\n",
       "2021-01-07 20:00:00        4.887         8\n",
       "2021-01-07 21:00:00        5.186         8\n",
       "2021-01-07 22:00:00        5.594         8\n",
       "2021-01-07 23:00:00        7.291         8\n",
       "\n",
       "[168 rows x 2 columns]"
      ]
     },
     "execution_count": 32,
     "metadata": {},
     "output_type": "execute_result"
    }
   ],
   "source": [
    "df8"
   ]
  },
  {
   "cell_type": "markdown",
   "id": "0b6ea576",
   "metadata": {},
   "source": [
    "# 48"
   ]
  },
  {
   "cell_type": "code",
   "execution_count": 33,
   "id": "ddd505a0",
   "metadata": {},
   "outputs": [],
   "source": [
    "df9=df[df[\"meter_id\"]==48]\n",
    "df9=df9.drop([\"meter_id\"],axis=1)\n",
    "df9=df9.resample(\"H\").sum()\n",
    "df9[\"building\"]=9"
   ]
  },
  {
   "cell_type": "code",
   "execution_count": 34,
   "id": "cc6758a7",
   "metadata": {},
   "outputs": [
    {
     "data": {
      "text/html": [
       "<div>\n",
       "<style scoped>\n",
       "    .dataframe tbody tr th:only-of-type {\n",
       "        vertical-align: middle;\n",
       "    }\n",
       "\n",
       "    .dataframe tbody tr th {\n",
       "        vertical-align: top;\n",
       "    }\n",
       "\n",
       "    .dataframe thead th {\n",
       "        text-align: right;\n",
       "    }\n",
       "</style>\n",
       "<table border=\"1\" class=\"dataframe\">\n",
       "  <thead>\n",
       "    <tr style=\"text-align: right;\">\n",
       "      <th></th>\n",
       "      <th>consumption</th>\n",
       "      <th>building</th>\n",
       "    </tr>\n",
       "    <tr>\n",
       "      <th>timestamp</th>\n",
       "      <th></th>\n",
       "      <th></th>\n",
       "    </tr>\n",
       "  </thead>\n",
       "  <tbody>\n",
       "    <tr>\n",
       "      <th>2021-01-01 00:00:00</th>\n",
       "      <td>3.353</td>\n",
       "      <td>9</td>\n",
       "    </tr>\n",
       "    <tr>\n",
       "      <th>2021-01-01 01:00:00</th>\n",
       "      <td>1.997</td>\n",
       "      <td>9</td>\n",
       "    </tr>\n",
       "    <tr>\n",
       "      <th>2021-01-01 02:00:00</th>\n",
       "      <td>3.815</td>\n",
       "      <td>9</td>\n",
       "    </tr>\n",
       "    <tr>\n",
       "      <th>2021-01-01 03:00:00</th>\n",
       "      <td>2.333</td>\n",
       "      <td>9</td>\n",
       "    </tr>\n",
       "    <tr>\n",
       "      <th>2021-01-01 04:00:00</th>\n",
       "      <td>2.063</td>\n",
       "      <td>9</td>\n",
       "    </tr>\n",
       "    <tr>\n",
       "      <th>...</th>\n",
       "      <td>...</td>\n",
       "      <td>...</td>\n",
       "    </tr>\n",
       "    <tr>\n",
       "      <th>2021-01-07 19:00:00</th>\n",
       "      <td>5.488</td>\n",
       "      <td>9</td>\n",
       "    </tr>\n",
       "    <tr>\n",
       "      <th>2021-01-07 20:00:00</th>\n",
       "      <td>4.320</td>\n",
       "      <td>9</td>\n",
       "    </tr>\n",
       "    <tr>\n",
       "      <th>2021-01-07 21:00:00</th>\n",
       "      <td>3.638</td>\n",
       "      <td>9</td>\n",
       "    </tr>\n",
       "    <tr>\n",
       "      <th>2021-01-07 22:00:00</th>\n",
       "      <td>4.709</td>\n",
       "      <td>9</td>\n",
       "    </tr>\n",
       "    <tr>\n",
       "      <th>2021-01-07 23:00:00</th>\n",
       "      <td>2.409</td>\n",
       "      <td>9</td>\n",
       "    </tr>\n",
       "  </tbody>\n",
       "</table>\n",
       "<p>168 rows × 2 columns</p>\n",
       "</div>"
      ],
      "text/plain": [
       "                     consumption  building\n",
       "timestamp                                 \n",
       "2021-01-01 00:00:00        3.353         9\n",
       "2021-01-01 01:00:00        1.997         9\n",
       "2021-01-01 02:00:00        3.815         9\n",
       "2021-01-01 03:00:00        2.333         9\n",
       "2021-01-01 04:00:00        2.063         9\n",
       "...                          ...       ...\n",
       "2021-01-07 19:00:00        5.488         9\n",
       "2021-01-07 20:00:00        4.320         9\n",
       "2021-01-07 21:00:00        3.638         9\n",
       "2021-01-07 22:00:00        4.709         9\n",
       "2021-01-07 23:00:00        2.409         9\n",
       "\n",
       "[168 rows x 2 columns]"
      ]
     },
     "execution_count": 34,
     "metadata": {},
     "output_type": "execute_result"
    }
   ],
   "source": [
    "df9"
   ]
  },
  {
   "cell_type": "markdown",
   "id": "e10b1d17",
   "metadata": {},
   "source": [
    "# checking for null values"
   ]
  },
  {
   "cell_type": "code",
   "execution_count": 35,
   "id": "8e26936c",
   "metadata": {},
   "outputs": [
    {
     "data": {
      "text/plain": [
       "consumption    0\n",
       "building       0\n",
       "dtype: int64"
      ]
     },
     "execution_count": 35,
     "metadata": {},
     "output_type": "execute_result"
    }
   ],
   "source": [
    "df1.isnull().sum()"
   ]
  },
  {
   "cell_type": "code",
   "execution_count": 36,
   "id": "e80e2c9a",
   "metadata": {},
   "outputs": [
    {
     "data": {
      "text/plain": [
       "consumption    0\n",
       "building       0\n",
       "dtype: int64"
      ]
     },
     "execution_count": 36,
     "metadata": {},
     "output_type": "execute_result"
    }
   ],
   "source": [
    "df2.isnull().sum()"
   ]
  },
  {
   "cell_type": "code",
   "execution_count": 37,
   "id": "a93aeb35",
   "metadata": {},
   "outputs": [
    {
     "data": {
      "text/plain": [
       "consumption    0\n",
       "building       0\n",
       "dtype: int64"
      ]
     },
     "execution_count": 37,
     "metadata": {},
     "output_type": "execute_result"
    }
   ],
   "source": [
    "df3.isnull().sum()"
   ]
  },
  {
   "cell_type": "code",
   "execution_count": 38,
   "id": "cbc186a0",
   "metadata": {},
   "outputs": [
    {
     "data": {
      "text/plain": [
       "consumption    0\n",
       "building       0\n",
       "dtype: int64"
      ]
     },
     "execution_count": 38,
     "metadata": {},
     "output_type": "execute_result"
    }
   ],
   "source": [
    "df4.isnull().sum()"
   ]
  },
  {
   "cell_type": "code",
   "execution_count": 39,
   "id": "7cc9a8ac",
   "metadata": {},
   "outputs": [
    {
     "data": {
      "text/plain": [
       "consumption    0\n",
       "building       0\n",
       "dtype: int64"
      ]
     },
     "execution_count": 39,
     "metadata": {},
     "output_type": "execute_result"
    }
   ],
   "source": [
    "df5.isnull().sum()"
   ]
  },
  {
   "cell_type": "code",
   "execution_count": 40,
   "id": "703b7f78",
   "metadata": {},
   "outputs": [
    {
     "data": {
      "text/plain": [
       "consumption    0\n",
       "building       0\n",
       "dtype: int64"
      ]
     },
     "execution_count": 40,
     "metadata": {},
     "output_type": "execute_result"
    }
   ],
   "source": [
    "df6.isnull().sum()"
   ]
  },
  {
   "cell_type": "code",
   "execution_count": 41,
   "id": "baa12912",
   "metadata": {},
   "outputs": [
    {
     "data": {
      "text/plain": [
       "consumption    0\n",
       "building       0\n",
       "dtype: int64"
      ]
     },
     "execution_count": 41,
     "metadata": {},
     "output_type": "execute_result"
    }
   ],
   "source": [
    "df7.isnull().sum()"
   ]
  },
  {
   "cell_type": "code",
   "execution_count": 42,
   "id": "6a9b5835",
   "metadata": {},
   "outputs": [
    {
     "data": {
      "text/plain": [
       "consumption    0\n",
       "building       0\n",
       "dtype: int64"
      ]
     },
     "execution_count": 42,
     "metadata": {},
     "output_type": "execute_result"
    }
   ],
   "source": [
    "df8.isnull().sum()"
   ]
  },
  {
   "cell_type": "code",
   "execution_count": 43,
   "id": "9e15b32d",
   "metadata": {},
   "outputs": [
    {
     "data": {
      "text/plain": [
       "consumption    0\n",
       "building       0\n",
       "dtype: int64"
      ]
     },
     "execution_count": 43,
     "metadata": {},
     "output_type": "execute_result"
    }
   ],
   "source": [
    "df9.isnull().sum()"
   ]
  },
  {
   "cell_type": "code",
   "execution_count": null,
   "id": "576efa23",
   "metadata": {},
   "outputs": [],
   "source": []
  },
  {
   "cell_type": "markdown",
   "id": "c61660bf",
   "metadata": {},
   "source": [
    "# weather data"
   ]
  },
  {
   "cell_type": "code",
   "execution_count": null,
   "id": "7c3108d3",
   "metadata": {},
   "outputs": [],
   "source": [
    "w=pd.read_csv(r\"C:\\machine learning use case\\smart energy\\smart energy\\dataset\\weather_data.csv\")"
   ]
  },
  {
   "cell_type": "code",
   "execution_count": null,
   "id": "006056e1",
   "metadata": {},
   "outputs": [],
   "source": [
    "w"
   ]
  },
  {
   "cell_type": "code",
   "execution_count": null,
   "id": "73626b50",
   "metadata": {},
   "outputs": [],
   "source": [
    "w=w[w[\"campus_id\"]==2]"
   ]
  },
  {
   "cell_type": "code",
   "execution_count": null,
   "id": "9b2ce5f1-5512-4dab-8295-a90e94836954",
   "metadata": {},
   "outputs": [],
   "source": [
    "w.info()"
   ]
  },
  {
   "cell_type": "code",
   "execution_count": null,
   "id": "cae95990-35d9-4c96-a683-89f8e9cf8317",
   "metadata": {},
   "outputs": [],
   "source": []
  },
  {
   "cell_type": "code",
   "execution_count": null,
   "id": "7ea9554d-5534-495c-94bf-7c8be18ef780",
   "metadata": {},
   "outputs": [],
   "source": []
  },
  {
   "cell_type": "code",
   "execution_count": null,
   "id": "12806f65-8e04-4fbd-94d1-251748eadeb9",
   "metadata": {},
   "outputs": [],
   "source": []
  },
  {
   "cell_type": "code",
   "execution_count": null,
   "id": "55dd9aa1",
   "metadata": {},
   "outputs": [],
   "source": [
    "w[\"timestamp\"]=pd.to_datetime(w[\"timestamp\"])"
   ]
  },
  {
   "cell_type": "code",
   "execution_count": null,
   "id": "be5171e3",
   "metadata": {},
   "outputs": [],
   "source": [
    "w= w[(w['timestamp'] >= start_date) & (w['timestamp'] <= end_date)]"
   ]
  },
  {
   "cell_type": "code",
   "execution_count": null,
   "id": "59834af3",
   "metadata": {},
   "outputs": [],
   "source": [
    "w"
   ]
  },
  {
   "cell_type": "code",
   "execution_count": null,
   "id": "46727079",
   "metadata": {},
   "outputs": [],
   "source": [
    "w=w.drop([\"campus_id\"],axis=1)\n",
    "w=w.set_index(\"timestamp\")\n",
    "w=w.resample(\"H\").mean()"
   ]
  },
  {
   "cell_type": "code",
   "execution_count": null,
   "id": "ffa02f3b",
   "metadata": {},
   "outputs": [],
   "source": [
    "w"
   ]
  },
  {
   "cell_type": "code",
   "execution_count": null,
   "id": "7c2a1c23",
   "metadata": {},
   "outputs": [],
   "source": [
    "w.isnull().sum()"
   ]
  },
  {
   "cell_type": "code",
   "execution_count": null,
   "id": "321b5bcd",
   "metadata": {},
   "outputs": [],
   "source": [
    "w['apparent_temperature']=w['apparent_temperature'].fillna(w['apparent_temperature'].mean())\n",
    "w['air_temperature']=w['air_temperature'].fillna(w['air_temperature'].mean())\n",
    "w['dew_point_temperature']=w['dew_point_temperature'].fillna(w['dew_point_temperature'].mean())\n",
    "w['relative_humidity']=w['relative_humidity'].fillna(w['relative_humidity'].mean())\n",
    "w['wind_speed']=w['wind_speed'].fillna(w['wind_speed'].mean())\n",
    "w['wind_direction']=w['wind_direction'].fillna(w['wind_direction'].mean())\n"
   ]
  },
  {
   "cell_type": "code",
   "execution_count": null,
   "id": "460ba28b-60f7-4bfd-9686-adc6ee85984f",
   "metadata": {},
   "outputs": [],
   "source": [
    "w.isnull().sum()"
   ]
  },
  {
   "cell_type": "markdown",
   "id": "30668f78",
   "metadata": {},
   "source": [
    "## creating original data"
   ]
  },
  {
   "cell_type": "code",
   "execution_count": null,
   "id": "9959320e",
   "metadata": {},
   "outputs": [],
   "source": [
    "result1 = pd.concat([df1, w], axis=1)\n"
   ]
  },
  {
   "cell_type": "code",
   "execution_count": null,
   "id": "bb25ed8c",
   "metadata": {},
   "outputs": [],
   "source": [
    "result2 = pd.concat([df2, w], axis=1)\n"
   ]
  },
  {
   "cell_type": "code",
   "execution_count": null,
   "id": "0abbdde9",
   "metadata": {},
   "outputs": [],
   "source": [
    "result3 = pd.concat([df3, w], axis=1)\n"
   ]
  },
  {
   "cell_type": "code",
   "execution_count": null,
   "id": "30a6a646",
   "metadata": {},
   "outputs": [],
   "source": [
    "result4 = pd.concat([df4, w], axis=1)\n"
   ]
  },
  {
   "cell_type": "code",
   "execution_count": null,
   "id": "7b807c21",
   "metadata": {},
   "outputs": [],
   "source": [
    "result5 = pd.concat([df5, w], axis=1)\n"
   ]
  },
  {
   "cell_type": "code",
   "execution_count": null,
   "id": "0ae3031c",
   "metadata": {},
   "outputs": [],
   "source": [
    "result6 = pd.concat([df6, w], axis=1)"
   ]
  },
  {
   "cell_type": "code",
   "execution_count": null,
   "id": "207620a1",
   "metadata": {},
   "outputs": [],
   "source": [
    "result7 = pd.concat([df7, w], axis=1)\n"
   ]
  },
  {
   "cell_type": "code",
   "execution_count": null,
   "id": "df0abeee",
   "metadata": {},
   "outputs": [],
   "source": [
    "result8 = pd.concat([df8, w], axis=1)\n"
   ]
  },
  {
   "cell_type": "code",
   "execution_count": null,
   "id": "6a94ed91",
   "metadata": {},
   "outputs": [],
   "source": [
    "result9 = pd.concat([df9, w], axis=1)\n"
   ]
  },
  {
   "cell_type": "code",
   "execution_count": null,
   "id": "979a0ef8",
   "metadata": {},
   "outputs": [],
   "source": [
    "final_result=pd.concat([result1,result2,result3,result4,result5,result6,result7,result8,result9],axis=0)"
   ]
  },
  {
   "cell_type": "code",
   "execution_count": null,
   "id": "69d22c01",
   "metadata": {},
   "outputs": [],
   "source": [
    "final_result"
   ]
  },
  {
   "cell_type": "code",
   "execution_count": null,
   "id": "986fc985",
   "metadata": {},
   "outputs": [],
   "source": [
    "final_result=final_result.reset_index()"
   ]
  },
  {
   "cell_type": "code",
   "execution_count": null,
   "id": "8739b263",
   "metadata": {},
   "outputs": [],
   "source": [
    "final_result"
   ]
  },
  {
   "cell_type": "code",
   "execution_count": null,
   "id": "da83beca-e061-48c9-9526-8d8bbfe1db8d",
   "metadata": {},
   "outputs": [],
   "source": [
    "final_result=final_result[final_result[\"timestamp\"]!=pd.to_datetime(\"2021-01-08 00:00:00\")]"
   ]
  },
  {
   "cell_type": "code",
   "execution_count": null,
   "id": "161547de",
   "metadata": {},
   "outputs": [],
   "source": [
    "import datetime"
   ]
  },
  {
   "cell_type": "code",
   "execution_count": null,
   "id": "5b20abe0",
   "metadata": {},
   "outputs": [],
   "source": [
    "final_result[\"month\"] = final_result[\"timestamp\"].dt.month\n",
    "final_result[\"day\"] = final_result[\"timestamp\"].dt.day\n",
    "final_result[\"hour\"] = final_result[\"timestamp\"].dt.hour\n",
    "final_result[\"weekday\"] = final_result[\"timestamp\"].dt.weekday"
   ]
  },
  {
   "cell_type": "code",
   "execution_count": null,
   "id": "dfe6f212",
   "metadata": {},
   "outputs": [],
   "source": [
    "final_result"
   ]
  },
  {
   "cell_type": "code",
   "execution_count": null,
   "id": "157bfba0-20e3-4e94-9215-38bfbb00b44e",
   "metadata": {},
   "outputs": [],
   "source": [
    "df1=pd.read_csv(r\"C:\\machine learning use case\\smart energy\\smart energy\\dataset\\building_meta.csv\")"
   ]
  },
  {
   "cell_type": "code",
   "execution_count": null,
   "id": "23d54fe1-62b4-4dab-b55e-e3221f91d193",
   "metadata": {},
   "outputs": [],
   "source": [
    "df1.columns"
   ]
  },
  {
   "cell_type": "code",
   "execution_count": null,
   "id": "9b03208e-a499-492f-a56f-311268a061b2",
   "metadata": {},
   "outputs": [],
   "source": [
    "df1.head()"
   ]
  },
  {
   "cell_type": "code",
   "execution_count": null,
   "id": "e342d90a-3843-47aa-9599-7774823c73be",
   "metadata": {},
   "outputs": [],
   "source": [
    "df1=df1[df1[\"campus_id\"]==2]"
   ]
  },
  {
   "cell_type": "code",
   "execution_count": null,
   "id": "6d7756cd-9e76-4386-84e3-35a165d46454",
   "metadata": {},
   "outputs": [],
   "source": [
    "df1= df1.rename(columns={'id': 'building_id', \"built_year\":\"building_builtyear\",'gross_floor_area': 'building_floorarea',\"category\":\"building_category\"})"
   ]
  },
  {
   "cell_type": "code",
   "execution_count": null,
   "id": "24844328-ce04-42ff-8af0-6731933606a1",
   "metadata": {},
   "outputs": [],
   "source": [
    "df1=df1[[\"building_id\",\"building_category\",\"building_floorarea\",\"building_builtyear\"]]"
   ]
  },
  {
   "cell_type": "code",
   "execution_count": null,
   "id": "2dc3d62d-bc21-435c-ac36-bd7017072342",
   "metadata": {},
   "outputs": [],
   "source": [
    "df1['building_id'] = df1['building_id'].replace(to_replace=8,value=1)\n",
    "df1['building_id'] = df1['building_id'].replace(to_replace=9,value=2)\n",
    "df1['building_id'] =df1['building_id'].replace(to_replace=10,value=3)\n",
    "df1['building_id'] = df1['building_id'].replace(to_replace=11,value=4)\n",
    "df1['building_id'] = df1['building_id'].replace(to_replace=12,value=5)\n",
    "df1['building_id'] = df1['building_id'].replace(to_replace=13,value=6)\n",
    "df1['building_id'] = df1['building_id'].replace(to_replace=14,value=7)\n",
    "df1['building_id'] = df1['building_id'].replace(to_replace=47,value=8)\n",
    "df1['building_id'] = df1['building_id'].replace(to_replace=48,value=9)"
   ]
  },
  {
   "cell_type": "code",
   "execution_count": null,
   "id": "6e0d54f3-1a43-4f48-ad21-63953b04f8f2",
   "metadata": {},
   "outputs": [],
   "source": [
    "df1"
   ]
  },
  {
   "cell_type": "code",
   "execution_count": null,
   "id": "c1a390f6-2c5f-4ef1-8ca1-6dec2ae457f3",
   "metadata": {},
   "outputs": [],
   "source": [
    "final_result= final_result.rename(columns={'building': 'building_id'})"
   ]
  },
  {
   "cell_type": "code",
   "execution_count": null,
   "id": "7b082e20-ad97-4a20-bd62-7bd2b8cddbc6",
   "metadata": {},
   "outputs": [],
   "source": [
    "final_result=final_result.merge(df1,on=\"building_id\")"
   ]
  },
  {
   "cell_type": "code",
   "execution_count": null,
   "id": "e1f346c3-5dcd-4baf-8e8f-ce9787ae399a",
   "metadata": {},
   "outputs": [],
   "source": [
    "final_result.head()"
   ]
  },
  {
   "cell_type": "code",
   "execution_count": null,
   "id": "aa8da151-458a-4785-a70b-26025a438bd9",
   "metadata": {},
   "outputs": [],
   "source": [
    "def assign_value(row):\n",
    "    if row['weekday']<5:\n",
    "        return 0\n",
    "    else:\n",
    "        return 1\n",
    "final_result['is_weekend'] = final_result.apply(assign_value, axis=1)"
   ]
  },
  {
   "cell_type": "code",
   "execution_count": null,
   "id": "b1a9d7d0-daca-4f23-bdea-e3d38cb26e5d",
   "metadata": {},
   "outputs": [],
   "source": [
    "def assign_value(row):\n",
    "    if row['month']==12 or row['month']==1 or row['month']==2:\n",
    "        return \"summer\"\n",
    "    if row['month']==3 or row['month']==4 or row['month']==5:\n",
    "        return \"autumn\"\n",
    "    if row['month']==6 or row['month']==7 or row['month']==8:\n",
    "        return \"winter\"\n",
    "    if row['month']==9 or row['month']==10 or row['month']==11 :\n",
    "        return \"spring\"\n",
    "final_result['season'] = final_result.apply(assign_value, axis=1)"
   ]
  },
  {
   "cell_type": "code",
   "execution_count": null,
   "id": "530261f9-8c75-49e7-89da-c38e5f21add5",
   "metadata": {},
   "outputs": [],
   "source": [
    "final_result.isnull().sum()"
   ]
  },
  {
   "cell_type": "code",
   "execution_count": null,
   "id": "93d5c866-69fc-4a07-b5e2-df9f91185193",
   "metadata": {},
   "outputs": [],
   "source": [
    "final_result.columns"
   ]
  },
  {
   "cell_type": "code",
   "execution_count": null,
   "id": "be357bf9-16c7-4b4a-895f-1c1d7ac7b6fb",
   "metadata": {},
   "outputs": [],
   "source": [
    "final_result.shape"
   ]
  },
  {
   "cell_type": "code",
   "execution_count": null,
   "id": "a476f2a7-b733-4d51-82c0-d4cadfdaf395",
   "metadata": {},
   "outputs": [],
   "source": [
    "df2=pd.read_csv(r\"C:\\machine learning use case\\smart energy\\smart energy\\dataset\\calender.csv\")"
   ]
  },
  {
   "cell_type": "code",
   "execution_count": null,
   "id": "19193219-f453-43dd-8dbd-7b5ecf51df01",
   "metadata": {},
   "outputs": [],
   "source": [
    "df2.head()"
   ]
  },
  {
   "cell_type": "code",
   "execution_count": null,
   "id": "043872c7-585a-49a0-9480-67bdade7a053",
   "metadata": {},
   "outputs": [],
   "source": [
    "df2=df2[[\"date\",\"is_holiday\"]]"
   ]
  },
  {
   "cell_type": "code",
   "execution_count": null,
   "id": "ac9b3505-84ce-435f-b2ec-ac1f6e7a4b1d",
   "metadata": {},
   "outputs": [],
   "source": [
    "df2[\"date\"]=pd.to_datetime(df2[\"date\"])"
   ]
  },
  {
   "cell_type": "code",
   "execution_count": null,
   "id": "9c1e6205-e322-4931-bfcd-84c37ab0b4ed",
   "metadata": {},
   "outputs": [],
   "source": [
    "df2"
   ]
  },
  {
   "cell_type": "code",
   "execution_count": null,
   "id": "44774bfe-8f72-45ac-807b-98e49eeabd0b",
   "metadata": {},
   "outputs": [],
   "source": [
    "final_result[\"date\"] = final_result[\"timestamp\"].dt.date"
   ]
  },
  {
   "cell_type": "code",
   "execution_count": null,
   "id": "4c9c1bbb-8080-4e6f-8c6b-8ea7b5ec8c30",
   "metadata": {},
   "outputs": [],
   "source": [
    "final_result"
   ]
  },
  {
   "cell_type": "code",
   "execution_count": null,
   "id": "e3654078-fa39-4805-92c5-b02e52206c27",
   "metadata": {
    "scrolled": true
   },
   "outputs": [],
   "source": [
    "final_result.columns"
   ]
  },
  {
   "cell_type": "code",
   "execution_count": null,
   "id": "4f92f880-ddea-41ae-9183-e9b529d845a5",
   "metadata": {},
   "outputs": [],
   "source": [
    "df2[\"date\"]=pd.to_datetime(df2[\"date\"])"
   ]
  },
  {
   "cell_type": "code",
   "execution_count": null,
   "id": "cf8aef6d-c5e4-4c33-8544-55357a484a2e",
   "metadata": {},
   "outputs": [],
   "source": [
    "final_result[\"date\"]=pd.to_datetime(final_result[\"date\"])"
   ]
  },
  {
   "cell_type": "code",
   "execution_count": null,
   "id": "cd166ef3-9b33-4585-8ddd-95e993906fc5",
   "metadata": {},
   "outputs": [],
   "source": [
    "final_result=final_result.merge(df2,on=\"date\")"
   ]
  },
  {
   "cell_type": "code",
   "execution_count": null,
   "id": "b65e29d5-a0fa-469c-8943-c022cc954330",
   "metadata": {},
   "outputs": [],
   "source": [
    "final_result.head()"
   ]
  },
  {
   "cell_type": "code",
   "execution_count": null,
   "id": "07943569-a582-4fd6-b5c0-145432061cb2",
   "metadata": {},
   "outputs": [],
   "source": [
    "final_result= final_result.rename(columns={'consumption': 'energy_consumption'})"
   ]
  },
  {
   "cell_type": "code",
   "execution_count": null,
   "id": "6a38a4f0-e426-4261-a945-40f8ff576ae7",
   "metadata": {},
   "outputs": [],
   "source": [
    "final_result"
   ]
  },
  {
   "cell_type": "code",
   "execution_count": null,
   "id": "c2479fae-34cd-4778-ada9-632fe7e401ec",
   "metadata": {},
   "outputs": [],
   "source": [
    "final_result=final_result.drop(\"date\",axis=1)"
   ]
  },
  {
   "cell_type": "code",
   "execution_count": null,
   "id": "c8b14c88-d446-4952-8c8f-3814de4f893b",
   "metadata": {},
   "outputs": [],
   "source": [
    "final_result.head()"
   ]
  },
  {
   "cell_type": "code",
   "execution_count": 223,
   "id": "9c6ff53b-ee90-4680-ac51-dcc749786cce",
   "metadata": {},
   "outputs": [],
   "source": [
    "final_result.to_csv(\"energy_consumption_future_data.csv\",index=False)"
   ]
  },
  {
   "cell_type": "code",
   "execution_count": null,
   "id": "c13d9d5c-446e-43d0-8e03-2101f4f3a28d",
   "metadata": {},
   "outputs": [],
   "source": []
  },
  {
   "cell_type": "code",
   "execution_count": null,
   "id": "7487fca1-8154-4d88-8de0-4756ffe01d2b",
   "metadata": {},
   "outputs": [],
   "source": []
  },
  {
   "cell_type": "code",
   "execution_count": null,
   "id": "d268fdb4-fe2f-452a-86da-3a318eaa7530",
   "metadata": {},
   "outputs": [],
   "source": []
  },
  {
   "cell_type": "code",
   "execution_count": null,
   "id": "2079b232-fc60-43ac-8f30-f259dd7a52a5",
   "metadata": {},
   "outputs": [],
   "source": []
  },
  {
   "cell_type": "code",
   "execution_count": null,
   "id": "a1b46a6f-e1eb-4659-84a3-3324c43665b9",
   "metadata": {},
   "outputs": [],
   "source": []
  },
  {
   "cell_type": "code",
   "execution_count": null,
   "id": "45859634-cc71-4b1f-872b-00effdb48a4d",
   "metadata": {},
   "outputs": [],
   "source": []
  }
 ],
 "metadata": {
  "kernelspec": {
   "display_name": "Python 3 (ipykernel)",
   "language": "python",
   "name": "python3"
  },
  "language_info": {
   "codemirror_mode": {
    "name": "ipython",
    "version": 3
   },
   "file_extension": ".py",
   "mimetype": "text/x-python",
   "name": "python",
   "nbconvert_exporter": "python",
   "pygments_lexer": "ipython3",
   "version": "3.10.11"
  }
 },
 "nbformat": 4,
 "nbformat_minor": 5
}
